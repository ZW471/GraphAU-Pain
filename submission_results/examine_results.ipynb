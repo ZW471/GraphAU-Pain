{
 "cells": [
  {
   "metadata": {
    "ExecuteTime": {
     "end_time": "2025-01-05T18:16:05.657255Z",
     "start_time": "2025-01-05T18:16:04.215602Z"
    }
   },
   "cell_type": "code",
   "source": [
    "import pandas as pd\n",
    "from sklearn.metrics import classification_report, confusion_matrix\n",
    "import seaborn as sns\n",
    "import matplotlib.pyplot as plt\n",
    "import os\n",
    "\n",
    "def process_multiple_inputs(input_file_output_folder_pairs):\n",
    "    \"\"\"\n",
    "    Processes multiple input file pairs, computes the classification report and confusion matrix,\n",
    "    and saves the outputs (confusion matrix image and classification report CSV) to the respective output folders.\n",
    "\n",
    "    Args:\n",
    "        input_file_output_folder_pairs (list of tuples): A list where each tuple contains:\n",
    "            - First element: List of two file paths [predictions_file, labels_file].\n",
    "            - Second element: Output folder path for saving results.\n",
    "\n",
    "    Returns:\n",
    "        None\n",
    "    \"\"\"\n",
    "    # Define the column headers and label mapping\n",
    "    columns = ['Mild Pain', 'No Pain', 'Pain']\n",
    "    label_mapping = {0: 'No Pain', 1: 'Mild Pain', 2: 'Obvious Pain'}\n",
    "\n",
    "    for file_pair in input_file_output_folder_pairs:\n",
    "        # Unpack each tuple\n",
    "        input_files, output_folder = file_pair\n",
    "        predictions_file = input_files[0]\n",
    "        labels_file = input_files[1]\n",
    "\n",
    "        # Ensure the output folder exists\n",
    "        os.makedirs(output_folder, exist_ok=True)\n",
    "\n",
    "        # Read and process labels\n",
    "        with open(labels_file, 'r') as lab:\n",
    "            labels = lab.readlines()\n",
    "            labels = [x.strip() for x in labels]\n",
    "            labels = [x.split(' ') for x in labels]\n",
    "            labels = pd.DataFrame(labels, columns=columns)\n",
    "            labels = labels.astype(int).idxmax(axis=1)  # Convert one-hot to class labels\n",
    "\n",
    "        # Read and process predictions\n",
    "        with open(predictions_file, 'r') as pred:\n",
    "            predictions = pred.readlines()\n",
    "            predictions = [x.strip() for x in predictions]\n",
    "            predictions = [x.split(' ') for x in predictions]\n",
    "            predictions = pd.DataFrame(predictions, columns=columns)\n",
    "            predictions = predictions.astype(int).idxmax(axis=1)  # Convert one-hot to class labels\n",
    "\n",
    "        # Generate and save classification report\n",
    "        report = classification_report(labels, predictions, target_names=label_mapping.values(), output_dict=True)\n",
    "        report_df = pd.DataFrame(report).transpose()\n",
    "        report_csv_path = os.path.join(output_folder, 'classification_report.csv')\n",
    "        report_df.to_csv(report_csv_path)\n",
    "        print(f\"Classification report saved at: {report_csv_path}\")\n",
    "\n",
    "        # Generate and save confusion matrix\n",
    "        cm = confusion_matrix(labels, predictions)\n",
    "        plt.figure(figsize=(7, 6))\n",
    "        sns.heatmap(cm, annot=True, fmt='d', cmap='viridis',\n",
    "                    xticklabels=label_mapping.values(), yticklabels=label_mapping.values(), annot_kws={\"size\": 14})\n",
    "        # Customizing visualization\n",
    "        plt.xlabel(\"Predicted\", fontsize=16, fontweight='bold')\n",
    "        plt.ylabel(\"Actual\", fontsize=16, fontweight='bold')\n",
    "        plt.xticks(fontsize=14)  # Set x-ticklabel font size\n",
    "        plt.yticks(fontsize=14)  # Set y-ticklabel font size\n",
    "        # No title\n",
    "        confusion_matrix_path = os.path.join(output_folder, 'confusion_matrix.png')\n",
    "        plt.savefig(confusion_matrix_path, bbox_inches='tight', pad_inches=0.1)\n",
    "        plt.close()  # Close the plot to avoid memory issues\n",
    "        print(f\"Confusion matrix saved at: {confusion_matrix_path}\")\n",
    "# Example list of input file pairs\n",
    "input_file_output_folder_pairs = [\n",
    "    (['pain_predictions_only_bb.txt', '../data/UNBC/list/UNBC_test_pspi_fold1.txt'], 'only backbone'),\n",
    "    (['pain_predictions_no_gnn.txt', '../data/UNBC/list/UNBC_test_pspi_fold1.txt'], 'no gnn'),\n",
    "    (['pain_predictions.txt', '../data/UNBC/list/UNBC_test_pspi_fold1.txt'], 'full'),\n",
    "    (['full gr.txt', '../data/UNBC/list/UNBC_test_pspi_fold1.txt'], 'full + graph representation'),\n",
    "    (['full gr no sft.txt', '../data/UNBC/list/UNBC_test_pspi_fold1.txt'], 'full no sft'),\n",
    "]\n",
    "\n",
    "# Call the function\n",
    "process_multiple_inputs(input_file_output_folder_pairs)"
   ],
   "id": "3cb6ea07d8c52456",
   "outputs": [
    {
     "name": "stdout",
     "output_type": "stream",
     "text": [
      "Classification report saved at: only backbone\\classification_report.csv\n",
      "Confusion matrix saved at: only backbone\\confusion_matrix.png\n",
      "Classification report saved at: no gnn\\classification_report.csv\n",
      "Confusion matrix saved at: no gnn\\confusion_matrix.png\n",
      "Classification report saved at: full\\classification_report.csv\n",
      "Confusion matrix saved at: full\\confusion_matrix.png\n",
      "Classification report saved at: full + graph representation\\classification_report.csv\n",
      "Confusion matrix saved at: full + graph representation\\confusion_matrix.png\n",
      "Classification report saved at: full no sft\\classification_report.csv\n",
      "Confusion matrix saved at: full no sft\\confusion_matrix.png\n"
     ]
    }
   ],
   "execution_count": 6
  },
  {
   "metadata": {},
   "cell_type": "code",
   "outputs": [],
   "execution_count": null,
   "source": "",
   "id": "b6d40a89a9c6ad9b"
  }
 ],
 "metadata": {
  "kernelspec": {
   "display_name": "Python 3",
   "language": "python",
   "name": "python3"
  },
  "language_info": {
   "codemirror_mode": {
    "name": "ipython",
    "version": 2
   },
   "file_extension": ".py",
   "mimetype": "text/x-python",
   "name": "python",
   "nbconvert_exporter": "python",
   "pygments_lexer": "ipython2",
   "version": "2.7.6"
  }
 },
 "nbformat": 4,
 "nbformat_minor": 5
}
